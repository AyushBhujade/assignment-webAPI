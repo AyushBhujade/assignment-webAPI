{
 "cells": [
  {
   "cell_type": "markdown",
   "id": "2acd012b-82bc-4e89-9091-871e174fd1e8",
   "metadata": {},
   "source": [
    "quation 1:\n",
    "    Application Programming Interface, is a set of rules and protocols that allows different software applications to communicate and interact with each other. It defines the methods and data formats tMany weather-related apps and websites use APIs to provide up-to-date weather information. Let's consider a weather app on your smartphone. When you open the app and request the current weather for your location, it uses an API to retrieve that data.hat applications can use to request and exchange information, services, or functionality. APIs are essential for enabling the integration of various systems and services.\n",
    "    Many weather-related apps and websites use APIs to provide up-to-date weather information. Let's consider a weather app on your smartphone. When you open the app and request the current weather for your location, it uses an API to retrieve that data."
   ]
  },
  {
   "cell_type": "markdown",
   "id": "31a447f3-6556-4f1c-85cb-4042fa0f71b6",
   "metadata": {},
   "source": [
    "quatiion2:\n",
    "    "
   ]
  },
  {
   "cell_type": "markdown",
   "id": "7d018f0c-f37e-42a4-af4e-1300635c810a",
   "metadata": {},
   "source": [
    "advantage:\n",
    "1)APIs enable different software systems to communicate and work together. They facilitate integration between applications and services, allowing them to share data and functionality.\n",
    "2)Developers can leverage existing APIs to access various services and features, reducing the need to reinvent the wheel. This saves time and development effort\n",
    "3)APIs accelerate software development by providing pre-built components and services. Developers can focus on their core application logic while relying on external APIs for specialized functions.\n",
    "    "
   ]
  },
  {
   "cell_type": "markdown",
   "id": "0c1cf7c1-02d7-4d31-b8d3-662562ef0669",
   "metadata": {},
   "source": [
    "disadvantage:\n",
    "1)When using third-party APIs, you may need to share data with external providers. This raises privacy and security concerns, especially for sensitive data.Relying on external APIs creates a dependency on third-party services. If the API provider changes or discontinues their service, it can disrupt your application\n",
    "2)When using third-party APIs, you may need to share data with external providers. This raises privacy and security concerns, especially for sensitive data.\n",
    "3)external api may not provied all the customization or functionality you need"
   ]
  },
  {
   "cell_type": "markdown",
   "id": "209982bd-06ef-4030-b8eb-9c38d3cc29ec",
   "metadata": {},
   "source": [
    "quation:3"
   ]
  },
  {
   "cell_type": "markdown",
   "id": "fb0dafc6-07c0-4ad2-8417-1d2691cfa679",
   "metadata": {},
   "source": [
    "API:An API, in a broader sense, refers to any set of rules and protocols that allow one software component or system to interact with another.\n",
    "APIs can be used for various purposes, including operating system APIs (e.g., Windows API), library APIs (e.g., Python's standard library), and database APIs (e.g., SQL database APIs).\n",
    "APIs can be used for communication between software components within a single system or for interaction between different systems.\n",
    "APIs are not limited to web-based communication; they can operate within a local environment or across a network.:\n"
   ]
  },
  {
   "cell_type": "markdown",
   "id": "2b8a8179-9ca5-4eac-9f35-a70424192d85",
   "metadata": {},
   "source": [
    "webAPI:An API, in a broader sense, refers to any set of rules and protocols that allow one software component or system to interact with another.\n",
    "APIs can be used for various purposes, including operating system APIs (e.g., Windows API), library APIs (e.g., Python's standard library), and database APIs (e.g., SQL database APIs).\n",
    "APIs can be used for communication between software components within a single system or for interaction between different systems.\n",
    "APIs are not limited to web-based communication; they can operate within a local environment or across a network."
   ]
  },
  {
   "cell_type": "markdown",
   "id": "435f5ec1-2e94-4220-b099-4b31d97e4914",
   "metadata": {},
   "source": [
    "quation4:\n",
    "REST:An API, in a broader sense, refers to any set of rules and protocols that allow one software component or system to interact with another.\n",
    "APIs can be used for various purposes, including operating system APIs (e.g., Windows API), library APIs (e.g., Python's standard library), and database APIs (e.g., SQL database APIs).\n",
    "APIs can be used for communication between software components within a single system or for interaction between different systems.\n",
    "APIs are not limited to web-based communication; they can operate within a local environment or across a network.\n",
    "\n",
    "SOAP:\n",
    "SOAP is a protocol that defines a strict set of rules for structuring messages used in communication between applications.\n",
    "Data Format: SOAP messages are typically encoded in XML and follow a rigid structure defined by a specific schema.\n",
    "Statefulness: SOAP allows for stateful communication, which means it can maintain context between requests"
   ]
  },
  {
   "cell_type": "markdown",
   "id": "88b0049d-2c4f-4764-80ad-20def55b3c36",
   "metadata": {},
   "source": [
    "quation5:\n",
    "    "
   ]
  },
  {
   "cell_type": "markdown",
   "id": "33efaa08-741d-45e9-a816-7282175a346c",
   "metadata": {},
   "source": [
    "REST:\n",
    "   1)REST doesn't define a specific protocol. It relies on existing web protocols like HTTP for communication\n",
    "   2)REST is an architectural style that focuses on a stateless, client-server communication model. It is based on principles like using standard HTTP      methods and resources for communication.\n",
    "   3)RESTful services use standard HTTP methods (GET, POST, PUT, DELETE) for different operations. For example, GET for retrieving data, POST for          creating daRESTful services use standard HTTP methods (GET, POST, PUT, DELETE) for different operations. For example, GET for retrieving data, POST for creating data, PUT for updating data, and DELETE for removing datata, PUT for updating data, and DELETE for removing data\n",
    "SOAP:\n",
    "   1)SOAP is a protocol in itself. It has its own set of rules and specifications for message structure and processing.\n",
    "   2)SOAP is a protocol that defines a specific set of rules for structuring messages used in communication. It does not dictate the architectural          style, and it can be used in various communication models\n",
    "   3)SOAP messages are typically encoded in XML and have a rigid structure defined by a specific schema. This can make SOAP messages larger                and more complex"
   ]
  }
 ],
 "metadata": {
  "kernelspec": {
   "display_name": "Python 3 (ipykernel)",
   "language": "python",
   "name": "python3"
  },
  "language_info": {
   "codemirror_mode": {
    "name": "ipython",
    "version": 3
   },
   "file_extension": ".py",
   "mimetype": "text/x-python",
   "name": "python",
   "nbconvert_exporter": "python",
   "pygments_lexer": "ipython3",
   "version": "3.10.8"
  }
 },
 "nbformat": 4,
 "nbformat_minor": 5
}
